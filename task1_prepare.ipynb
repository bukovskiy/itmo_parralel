{
 "cells": [
  {
   "cell_type": "code",
   "execution_count": 1,
   "metadata": {},
   "outputs": [],
   "source": [
    "import math"
   ]
  },
  {
   "cell_type": "code",
   "execution_count": 2,
   "metadata": {},
   "outputs": [],
   "source": [
    "\n",
    "def func(x):\n",
    "    return (1/math.pow(x,2))*(math.pow(math.sin(1/x),2))\n",
    "\n",
    "def trapezoid_sequential(a,b,n):\n",
    "\n",
    "    step = (b-a)/n;\n",
    "    summ = 0;\n",
    "    for i in range(1,n):\n",
    "        summ += func(a+i*step)\n",
    "                              \n",
    "    return (func(a)/2+func(b)/2+summ)*step;\n",
    "\n",
    "def choose_n(pairs, eps):\n",
    "    '''\n",
    "    Function returns optimal number of steps for counting the \n",
    "    algorithm of a function within given bounds\n",
    "    '''\n",
    "    n_values=[]\n",
    "    \n",
    "    for a,b in pairs:\n",
    "        n = 1000;\n",
    "        while (abs(trapezoid_sequential(a,b,n*2) - trapezoid_sequential(a,b,n))>eps):\n",
    "            n*=2\n",
    "        n_values.append(n);\n",
    "        print(a,b,\" done\", \" n: \", n)\n",
    "        print(\"value: \", trapezoid_sequential(a,b,n))\n",
    "    \n",
    "    return n_values;\n",
    "\n",
    "\n"
   ]
  },
  {
   "cell_type": "code",
   "execution_count": 6,
   "metadata": {},
   "outputs": [
    {
     "name": "stdout",
     "output_type": "stream",
     "text": [
      "0.0001 0.001  done  n:  8192000\n",
      "value:  4500.087019539408\n",
      "0.001 0.01  done  n:  1024000\n",
      "value:  449.5491717959446\n",
      "0.01 0.1  done  n:  128000\n",
      "value:  45.446557059825714\n",
      "0.1 1  done  n:  8000\n",
      "value:  4.499098294631782\n",
      "1 10  done  n:  2000\n",
      "value:  0.2723469000918145\n",
      "10 100  done  n:  1000\n",
      "value:  0.0003323608384545587\n"
     ]
    },
    {
     "data": {
      "text/plain": [
       "[8192000, 1024000, 128000, 8000, 2000, 1000]"
      ]
     },
     "execution_count": 6,
     "metadata": {},
     "output_type": "execute_result"
    }
   ],
   "source": [
    "eps = 0.00001\n",
    "pairs = [(0.0001, 0.001),(0.001, 0.01),(0.01, 0.1,),(0.1,1),(1,10),(10,100)]\n",
    "\n",
    "choose_n(pairs, eps)"
   ]
  },
  {
   "cell_type": "code",
   "execution_count": 3,
   "metadata": {},
   "outputs": [
    {
     "name": "stdout",
     "output_type": "stream",
     "text": [
      "1e-05 0.0001  done  n:  32768000\n",
      "value:  45000.16335467618\n"
     ]
    },
    {
     "data": {
      "text/plain": [
       "[32768000]"
      ]
     },
     "execution_count": 3,
     "metadata": {},
     "output_type": "execute_result"
    }
   ],
   "source": [
    "choose_n([(0.00001, 0.0001)], eps)"
   ]
  },
  {
   "cell_type": "code",
   "execution_count": null,
   "metadata": {},
   "outputs": [],
   "source": []
  }
 ],
 "metadata": {
  "kernelspec": {
   "display_name": "Python 3",
   "language": "python",
   "name": "python3"
  },
  "language_info": {
   "codemirror_mode": {
    "name": "ipython",
    "version": 3
   },
   "file_extension": ".py",
   "mimetype": "text/x-python",
   "name": "python",
   "nbconvert_exporter": "python",
   "pygments_lexer": "ipython3",
   "version": "3.7.6"
  }
 },
 "nbformat": 4,
 "nbformat_minor": 4
}
